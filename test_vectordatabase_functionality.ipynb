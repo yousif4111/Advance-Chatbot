{
 "cells": [
  {
   "cell_type": "markdown",
   "metadata": {},
   "source": [
    "# Test Chromadb Scripts"
   ]
  },
  {
   "cell_type": "code",
   "execution_count": 21,
   "metadata": {},
   "outputs": [],
   "source": [
    "import chromadb\n",
    "from chromadb.utils import embedding_functions\n",
    "from dotenv import load_dotenv\n",
    "import os\n",
    "load_dotenv()\n",
    "\n",
    "# Preparing embedding models for embedding the chroma \n",
    "openai_ef = embedding_functions.OpenAIEmbeddingFunction(\n",
    "                api_key=os.getenv(\"OPENAI_API_KEY\"),\n",
    "                model_name=\"text-embedding-ada-002\",\n",
    "            )\n",
    "\n",
    "# chroma_client = chromadb.HttpClient(host='localhost', port=8000)\n",
    "client = chromadb.HttpClient(host='localhost', port=8000)\n",
    "\n"
   ]
  },
  {
   "cell_type": "code",
   "execution_count": 2,
   "metadata": {},
   "outputs": [
    {
     "data": {
      "text/plain": [
       "1700200571334541723"
      ]
     },
     "execution_count": 2,
     "metadata": {},
     "output_type": "execute_result"
    }
   ],
   "source": [
    "chroma_client.heartbeat()"
   ]
  },
  {
   "cell_type": "code",
   "execution_count": 19,
   "metadata": {},
   "outputs": [
    {
     "name": "stdout",
     "output_type": "stream",
     "text": [
      "name='Fianancial_News' id=UUID('cb79b7d8-7bcf-49ce-babf-d5b4ee0a4c27') metadata={'News_category': 'Gulf', 'News_source': 'Reuters_News'}\n"
     ]
    }
   ],
   "source": [
    "for i in chroma_client.list_collections():\n",
    "    print(i)"
   ]
  },
  {
   "cell_type": "markdown",
   "metadata": {},
   "source": [
    "## Data exploration"
   ]
  },
  {
   "cell_type": "code",
   "execution_count": 1,
   "metadata": {},
   "outputs": [],
   "source": [
    "import pandas as pd\n",
    "\n",
    "data = pd.read_csv(\"raw_data/News Articles collection_file_7.csv\")"
   ]
  },
  {
   "cell_type": "code",
   "execution_count": 2,
   "metadata": {},
   "outputs": [
    {
     "data": {
      "text/plain": [
       "Index(['_id', 'source_id', 'source_name', 'sentiment', 'summary',\n",
       "       'description', 'title', 'content', 'publishedAt_str', 'publishedAt',\n",
       "       'overall_polarity', 'subjectivity_score', 'sentiment_tag'],\n",
       "      dtype='object')"
      ]
     },
     "execution_count": 2,
     "metadata": {},
     "output_type": "execute_result"
    }
   ],
   "source": [
    "data.columns"
   ]
  },
  {
   "cell_type": "code",
   "execution_count": 3,
   "metadata": {},
   "outputs": [],
   "source": [
    "columns=[\"_id\",\"source_id\",\"source_name\",\"title\",\"content\",\"publishedAt_str\"]\n",
    "data = data[columns]"
   ]
  },
  {
   "cell_type": "code",
   "execution_count": 4,
   "metadata": {},
   "outputs": [
    {
     "data": {
      "text/plain": [
       "(1000, 6)"
      ]
     },
     "execution_count": 4,
     "metadata": {},
     "output_type": "execute_result"
    }
   ],
   "source": [
    "data.shape"
   ]
  },
  {
   "cell_type": "code",
   "execution_count": 15,
   "metadata": {},
   "outputs": [],
   "source": [
    "from langchain.text_splitter import RecursiveCharacterTextSplitter\n",
    "text_splitter = RecursiveCharacterTextSplitter(\n",
    "    # Set a really small chunk size, just to show.\n",
    "    chunk_size = 1200,\n",
    "    chunk_overlap  = 100,\n",
    "    length_function = len,\n",
    "    is_separator_regex = False,\n",
    ")"
   ]
  },
  {
   "cell_type": "code",
   "execution_count": 16,
   "metadata": {},
   "outputs": [
    {
     "name": "stdout",
     "output_type": "stream",
     "text": [
      "This document did not get uploaded\n",
      "nan\n",
      "This document did not get uploaded\n",
      "nan\n"
     ]
    }
   ],
   "source": [
    "docs=[]\n",
    "selected_column = 'content'\n",
    "\n",
    "for index, row in data.iterrows():\n",
    "    metadata_dict = {}\n",
    "    selected_column_data = None\n",
    "\n",
    "    for column in row.index:\n",
    "        if column == selected_column:\n",
    "            selected_column_data = row[column]\n",
    "        else:\n",
    "            metadata_dict[column] = row[column]\n",
    "    \n",
    "    # print(selected_column_data)\n",
    "    try:\n",
    "        docs.extend(text_splitter.create_documents([selected_column_data],[metadata_dict]))\n",
    "    except:\n",
    "        print(\"This document did not get uploaded\")\n",
    "        print(selected_column_data)\n",
    "        \n",
    "        \n",
    "    # break"
   ]
  },
  {
   "cell_type": "code",
   "execution_count": 27,
   "metadata": {},
   "outputs": [
    {
     "data": {
      "text/plain": [
       "{'_id': '6436912a6f411a001ddba130',\n",
       " 'source_id': 'LBA',\n",
       " 'source_name': 'Reuters News',\n",
       " 'title': 'Middle East Crude-Oman, Dubai rise on tighter supply outlook; Kuwait sets May OSP',\n",
       " 'publishedAt_str': '2023-04-12T10:05:26.000Z'}"
      ]
     },
     "execution_count": 27,
     "metadata": {},
     "output_type": "execute_result"
    }
   ],
   "source": [
    "docs[0].metadata"
   ]
  },
  {
   "cell_type": "code",
   "execution_count": 33,
   "metadata": {},
   "outputs": [
    {
     "data": {
      "text/plain": [
       "Document(page_content='SINGAPORE, April 12 (Reuters) - Middle East crude\\nbenchmarks Oman and Dubai advanced for a third consecutive\\nsession as the market expects tightening crude supply from the\\nOPEC+ group from May when they start the additional output\\nreduction.\\n    Analysts from Energy Aspects expected some Chinese and South\\nKorean refiners have nominated 450,000 barrels-per-day (bpd)\\nless of crude oil supply from Saudi Aramco in May than their\\ncontractual volume.\\n    Aramco may also choose to lower oil throughput at its\\ndomestic refineries to limit the amounts by which they must cut\\ncrude exports, the analysts said.\\n    Saudi Arabia plans to cut an extra of 500,000 bpd of crude\\nproduction from May to the rest of the year. The top oil\\nexporter was reported to supply full nominated volume to\\nclients.', metadata={'_id': '6436912a6f411a001ddba130', 'source_id': 'LBA', 'source_name': 'Reuters News', 'title': 'Middle East Crude-Oman, Dubai rise on tighter supply outlook; Kuwait sets May OSP', 'publishedAt_str': '2023-04-12T10:05:26.000Z'})"
      ]
     },
     "execution_count": 33,
     "metadata": {},
     "output_type": "execute_result"
    }
   ],
   "source": [
    "docs[0]"
   ]
  },
  {
   "cell_type": "code",
   "execution_count": 23,
   "metadata": {},
   "outputs": [],
   "source": [
    "from chromadb.utils import embedding_functions\n",
    "openai_ef = embedding_functions.OpenAIEmbeddingFunction(\n",
    "                api_key=os.getenv(\"OPENAI_API_KEY\"),\n",
    "                model_name=os.getenv(\"EMBEDDINGS_MODEL\")\n",
    "                # model_name=\"text-embedding-ada-002\",\n",
    "                \n",
    "            )\n",
    "coll_n=\"Fianancial_News\"\n",
    "emb_fn=openai_ef"
   ]
  },
  {
   "cell_type": "code",
   "execution_count": 24,
   "metadata": {},
   "outputs": [],
   "source": [
    "try:\n",
    "    collection = client.get_collection(\n",
    "                name=coll_n,\n",
    "                embedding_function=emb_fn)\n",
    "except ValueError:\n",
    "    coll_l = [i.name for i in client.list_collections()]\n",
    "    message = \"Oops, it seems the collection doesn't exist. Please choose a collection from the list below or create a new one.\"\n",
    "    # print(f\"{message}\\n\\n{coll_l}\")\n",
    "    # return f\"{message}\\n\\n{coll_l}\"\n",
    "    # return message, coll_l"
   ]
  },
  {
   "cell_type": "code",
   "execution_count": 30,
   "metadata": {},
   "outputs": [],
   "source": [
    "from tqdm import tqdm\n",
    "import uuid"
   ]
  },
  {
   "cell_type": "code",
   "execution_count": 31,
   "metadata": {},
   "outputs": [
    {
     "name": "stderr",
     "output_type": "stream",
     "text": [
      "Uploading and Indexing the Document: 100%|##| 4288/4288 [29:04<00:00,  2.46it/s]\n"
     ]
    }
   ],
   "source": [
    "for i in tqdm(docs, desc=\"Uploading and Indexing the Document\",ncols=80, ascii=True):\n",
    "# print(\"not found\")\n",
    "    collection.add(\n",
    "        documents=[i.page_content],\n",
    "        metadatas=[i.metadata],\n",
    "        ids=[str(uuid.uuid4().int)]\n",
    "        )\n",
    "\n",
    "message = f\"The document has been successfully uploaded to the database!\"\n",
    "# print(f\"\\n{message}\")\n",
    "# return f\"\\n{message}\""
   ]
  },
  {
   "cell_type": "code",
   "execution_count": null,
   "metadata": {},
   "outputs": [],
   "source": [
    "docs=[]\n",
    "for i in docs_1:\n",
    "    docs.extend(text_splitter.create_documents([i.page_content],[i.metadata]))"
   ]
  },
  {
   "cell_type": "code",
   "execution_count": null,
   "metadata": {},
   "outputs": [],
   "source": []
  },
  {
   "cell_type": "code",
   "execution_count": 21,
   "metadata": {},
   "outputs": [],
   "source": [
    "from langchain.document_loaders import UnstructuredFileLoader\n",
    "from unstructured.cleaners.core import clean_extra_whitespace"
   ]
  },
  {
   "cell_type": "code",
   "execution_count": 22,
   "metadata": {},
   "outputs": [
    {
     "name": "stderr",
     "output_type": "stream",
     "text": [
      "/Users/y.abdalla/Desktop/Yousif/app_dev_server/myenv/lib/python3.10/site-packages/tqdm/auto.py:21: TqdmWarning: IProgress not found. Please update jupyter and ipywidgets. See https://ipywidgets.readthedocs.io/en/stable/user_install.html\n",
      "  from .autonotebook import tqdm as notebook_tqdm\n"
     ]
    }
   ],
   "source": [
    "loader = UnstructuredFileLoader(file_path=\"raw_data/test_4.pdf\", mode=\"paged\",post_processors=[clean_extra_whitespace],strategy=\"auto\")\n",
    "docs_1 = loader.load()\n",
    "\n"
   ]
  },
  {
   "cell_type": "code",
   "execution_count": 28,
   "metadata": {},
   "outputs": [
    {
     "name": "stdout",
     "output_type": "stream",
     "text": [
      "{'source': 'raw_data/test_4.pdf', 'coordinates': {'points': ((72.0, 604.7760000000001), (72.0, 719.59872), (541.97964, 719.59872), (541.97964, 604.7760000000001)), 'system': 'PixelSpace', 'layout_width': 612, 'layout_height': 792}, 'filename': 'test_4.pdf', 'file_directory': 'raw_data', 'last_modified': '2023-10-31T15:33:53', 'filetype': 'application/pdf', 'page_number': 1, 'links': [{'text': 'Click here to see a non - exhaustive list of Amazon trademarks .', 'url': 'https://www.amazon.com/gp/help/customer/display.html/?nodeId=200738910', 'start_index': 11}], 'parent_id': '53cf26fe2dc7b394fce25f79e2973c46'}\n"
     ]
    }
   ],
   "source": [
    "for i in docs_1:\n",
    "    print(i.metadata)\n",
    "    break"
   ]
  },
  {
   "cell_type": "code",
   "execution_count": 25,
   "metadata": {},
   "outputs": [],
   "source": [
    "# # text splitter section\n",
    "docs=[]\n",
    "for i in docs_1:\n",
    "    docs.extend(text_splitter.create_documents([i.page_content],[i.metadata]))"
   ]
  },
  {
   "cell_type": "markdown",
   "metadata": {},
   "source": [
    "## splitiing the data into files "
   ]
  },
  {
   "cell_type": "code",
   "execution_count": 5,
   "metadata": {},
   "outputs": [
    {
     "data": {
      "text/html": [
       "<div>\n",
       "<style scoped>\n",
       "    .dataframe tbody tr th:only-of-type {\n",
       "        vertical-align: middle;\n",
       "    }\n",
       "\n",
       "    .dataframe tbody tr th {\n",
       "        vertical-align: top;\n",
       "    }\n",
       "\n",
       "    .dataframe thead th {\n",
       "        text-align: right;\n",
       "    }\n",
       "</style>\n",
       "<table border=\"1\" class=\"dataframe\">\n",
       "  <thead>\n",
       "    <tr style=\"text-align: right;\">\n",
       "      <th></th>\n",
       "      <th>_id</th>\n",
       "      <th>source_id</th>\n",
       "      <th>source_name</th>\n",
       "      <th>title</th>\n",
       "      <th>content</th>\n",
       "      <th>publishedAt_str</th>\n",
       "    </tr>\n",
       "  </thead>\n",
       "  <tbody>\n",
       "    <tr>\n",
       "      <th>0</th>\n",
       "      <td>6436912a6f411a001ddba130</td>\n",
       "      <td>LBA</td>\n",
       "      <td>Reuters News</td>\n",
       "      <td>Middle East Crude-Oman, Dubai rise on tighter ...</td>\n",
       "      <td>SINGAPORE, April 12 (Reuters) - Middle...</td>\n",
       "      <td>2023-04-12T10:05:26.000Z</td>\n",
       "    </tr>\n",
       "    <tr>\n",
       "      <th>1</th>\n",
       "      <td>64a687aec9a6f3002ebc7e72</td>\n",
       "      <td>LBA</td>\n",
       "      <td>Reuters News</td>\n",
       "      <td>Yellen to press for additional reforms at Worl...</td>\n",
       "      <td>In excerpts of her remarks obtained by Reuters...</td>\n",
       "      <td>2023-04-12T10:00:00.000Z</td>\n",
       "    </tr>\n",
       "    <tr>\n",
       "      <th>2</th>\n",
       "      <td>64a687a8c9a6f3002ebc7e14</td>\n",
       "      <td>MISTNW</td>\n",
       "      <td>Mist News</td>\n",
       "      <td>Masdar expands presence in US with completion ...</td>\n",
       "      <td>The Big Beau project, located in California, c...</td>\n",
       "      <td>2023-04-12T09:25:20.000Z</td>\n",
       "    </tr>\n",
       "    <tr>\n",
       "      <th>3</th>\n",
       "      <td>64958417c9a6f3002e054a86</td>\n",
       "      <td>MISTNW</td>\n",
       "      <td>Mist News</td>\n",
       "      <td>DEWA CEO receives CEO of COP28</td>\n",
       "      <td>The two sides discussed ways to enhance cooper...</td>\n",
       "      <td>2023-04-12T09:09:18.000Z</td>\n",
       "    </tr>\n",
       "    <tr>\n",
       "      <th>4</th>\n",
       "      <td>64a6894dc9a6f3002ebc8dd6</td>\n",
       "      <td>EMNEAG</td>\n",
       "      <td>Emirates News Agency (WAM)</td>\n",
       "      <td>COP28 President-Designate calls for ‘Fundament...</td>\n",
       "      <td>During a series of engagements with ministers ...</td>\n",
       "      <td>2023-04-12T00:00:00.000Z</td>\n",
       "    </tr>\n",
       "  </tbody>\n",
       "</table>\n",
       "</div>"
      ],
      "text/plain": [
       "                        _id source_id                 source_name  \\\n",
       "0  6436912a6f411a001ddba130       LBA                Reuters News   \n",
       "1  64a687aec9a6f3002ebc7e72       LBA                Reuters News   \n",
       "2  64a687a8c9a6f3002ebc7e14    MISTNW                   Mist News   \n",
       "3  64958417c9a6f3002e054a86    MISTNW                   Mist News   \n",
       "4  64a6894dc9a6f3002ebc8dd6    EMNEAG  Emirates News Agency (WAM)   \n",
       "\n",
       "                                               title  \\\n",
       "0  Middle East Crude-Oman, Dubai rise on tighter ...   \n",
       "1  Yellen to press for additional reforms at Worl...   \n",
       "2  Masdar expands presence in US with completion ...   \n",
       "3                     DEWA CEO receives CEO of COP28   \n",
       "4  COP28 President-Designate calls for ‘Fundament...   \n",
       "\n",
       "                                             content           publishedAt_str  \n",
       "0  \n",
       "       SINGAPORE, April 12 (Reuters) - Middle...  2023-04-12T10:05:26.000Z  \n",
       "1  In excerpts of her remarks obtained by Reuters...  2023-04-12T10:00:00.000Z  \n",
       "2  The Big Beau project, located in California, c...  2023-04-12T09:25:20.000Z  \n",
       "3  The two sides discussed ways to enhance cooper...  2023-04-12T09:09:18.000Z  \n",
       "4  During a series of engagements with ministers ...  2023-04-12T00:00:00.000Z  "
      ]
     },
     "execution_count": 5,
     "metadata": {},
     "output_type": "execute_result"
    }
   ],
   "source": [
    "data.head()"
   ]
  },
  {
   "cell_type": "code",
   "execution_count": 13,
   "metadata": {},
   "outputs": [],
   "source": [
    "import os\n",
    "def save_content_as_text_files(data_frame, output_directory):\n",
    "    # Create the output directory if it doesn't exist\n",
    "    if not os.path.exists(output_directory):\n",
    "        os.makedirs(output_directory)\n",
    "\n",
    "    # Iterate through each row in the DataFrame\n",
    "    for index, row in data_frame.iterrows():\n",
    "        # Extract the content from the 'content' column\n",
    "        content = row['content']\n",
    "\n",
    "        # Define the file path based on the row number\n",
    "        file_path = os.path.join(output_directory, f'{index + 1}.txt')\n",
    "        try:\n",
    "        # Write the content to the text file\n",
    "            with open(file_path, 'w', encoding='utf-8') as file:\n",
    "                file.write(content)\n",
    "        except:\n",
    "            print(f\"issue detected {content} file number {index}\")\n"
   ]
  },
  {
   "cell_type": "code",
   "execution_count": 14,
   "metadata": {},
   "outputs": [
    {
     "name": "stdout",
     "output_type": "stream",
     "text": [
      "issue detected nan file number 382\n",
      "issue detected nan file number 926\n"
     ]
    }
   ],
   "source": [
    "save_content_as_text_files(data_frame=data, output_directory=\"text_collection\")"
   ]
  },
  {
   "cell_type": "code",
   "execution_count": null,
   "metadata": {},
   "outputs": [],
   "source": []
  },
  {
   "cell_type": "markdown",
   "metadata": {},
   "source": [
    "## Creating collection"
   ]
  },
  {
   "cell_type": "code",
   "execution_count": null,
   "metadata": {},
   "outputs": [],
   "source": []
  },
  {
   "cell_type": "code",
   "execution_count": 18,
   "metadata": {},
   "outputs": [
    {
     "data": {
      "text/plain": [
       "'The Fianancial_News collection has been successfully created!'"
      ]
     },
     "execution_count": 18,
     "metadata": {},
     "output_type": "execute_result"
    }
   ],
   "source": [
    "import sys\n",
    "sys.path.append(\"./scripts\")\n",
    "from doc_loader_chromadb import create_collection\n",
    "\n",
    "create_collection(client=chroma_client,name=\"Fianancial_News\",emb_fn=openai_ef,News_source=\"Reuters_News\",News_category=\"Gulf\")"
   ]
  },
  {
   "cell_type": "code",
   "execution_count": null,
   "metadata": {},
   "outputs": [],
   "source": []
  },
  {
   "cell_type": "code",
   "execution_count": 5,
   "metadata": {},
   "outputs": [],
   "source": [
    "for i in chroma_client.list_collections():\n",
    "    print(i.name,i.metadata)"
   ]
  },
  {
   "cell_type": "markdown",
   "metadata": {},
   "source": [
    "## Uploading to the collection"
   ]
  },
  {
   "cell_type": "code",
   "execution_count": 10,
   "metadata": {},
   "outputs": [
    {
     "name": "stderr",
     "output_type": "stream",
     "text": [
      "/Users/y.abdalla/Desktop/Yousif/app_dev/myenv/lib/python3.10/site-packages/tqdm/auto.py:21: TqdmWarning: IProgress not found. Please update jupyter and ipywidgets. See https://ipywidgets.readthedocs.io/en/stable/user_install.html\n",
      "  from .autonotebook import tqdm as notebook_tqdm\n",
      "Uploading and Indexing the Document: 100%|########| 6/6 [00:03<00:00,  1.87it/s]"
     ]
    },
    {
     "name": "stdout",
     "output_type": "stream",
     "text": [
      "\n",
      "The file test_2 has been successfully uploaded to the database!\n"
     ]
    },
    {
     "name": "stderr",
     "output_type": "stream",
     "text": [
      "\n"
     ]
    }
   ],
   "source": [
    "from doc_loader_chromadb import upload_to_collection_chromadb\n",
    "\n",
    "upload_to_collection_chromadb(client=chroma_client,coll_n=\"HR_Department\",doc_lo=\"./raw_data/test_2.txt\",strategy=\"auto\")"
   ]
  },
  {
   "cell_type": "code",
   "execution_count": 11,
   "metadata": {},
   "outputs": [
    {
     "name": "stderr",
     "output_type": "stream",
     "text": [
      "Uploading and Indexing the Document: 100%|########| 1/1 [00:00<00:00,  1.52it/s]"
     ]
    },
    {
     "name": "stdout",
     "output_type": "stream",
     "text": [
      "\n",
      "The file test_5 has been successfully uploaded to the database!\n"
     ]
    },
    {
     "name": "stderr",
     "output_type": "stream",
     "text": [
      "\n"
     ]
    }
   ],
   "source": [
    "upload_to_collection_chromadb(client=chroma_client,coll_n=\"HR_Department\",doc_lo=\"./raw_data/test_5.docx\",strategy=\"auto\")"
   ]
  },
  {
   "cell_type": "markdown",
   "metadata": {},
   "source": [
    "## Deleting collection"
   ]
  },
  {
   "cell_type": "code",
   "execution_count": 14,
   "metadata": {},
   "outputs": [
    {
     "name": "stdout",
     "output_type": "stream",
     "text": [
      "**Checking first Document**\n",
      "\n",
      "This July 4, 2023 was hot. Earth’s hottest day on record, in fact.\n",
      "\n",
      "By Leo Sands Updated July 5, 2023 at 9:53 a.m. EDT|Published July 5, 2023 at 6:30 a.m. EDT\n",
      "\n",
      "A man walks in front of an installation featuring a burning Earth at a park in Daegu, South Korea, on Wednesday. (Yonhap/EPA-EFE/Shutterstock)\n",
      "\n",
      "Share\n",
      "\n",
      "Comment 1002 Tuesday was the hottest day on Earth since at least 1979, with the global average temperature reaching 62.92 degrees Fahrenheit (17.18 degrees Celsius), according to data from the U.S. National Centers for Environmental Prediction.\n",
      "\n",
      "Want to know how your actions can help make a difference for our planet? Sign up for the Climate Coach newsletter, in your inbox every Tuesday and Thursday. As a result, some scientists believe July 4 may have been one of the hottest days on Earth in about 125,000 years, due to a dangerous combination of climate change causing global temperatures to soar, the return of the El Niño pattern and the start of summer in the Northern Hemisphere.\n",
      "\n",
      "**Checking the last Document**\n",
      "\n",
      "John Smith\n",
      "\n",
      "Main St., Anytown, USA 12345\n",
      "\n",
      "johnsmith@email.com\n",
      "\n",
      "linkedin.com/in/johnsmith\n",
      "\n",
      "222 555 777\n",
      "\n",
      "January 01, 2050\n",
      "\n",
      "Human Resources Manager\n",
      "\n",
      "Company Corp\n",
      "\n",
      "678 Street\n",
      "\n",
      "Anyville, USA 910\n",
      "\n",
      "Sir/Madam,\n",
      "\n",
      "I am writing to express my interest in potential job opportunities within your organization. As a motivated and adaptable professional, I am eager to contribute my skills and expertise to a dynamic company like yours.\n",
      "\n",
      "With a passion for learning and collaborating, I am excited about the opportunity to work with a company that values growth and teamwork. I believe my skills and my dedication to achieving results align well with the goals of your organization.\n",
      "\n",
      "I am open to discussing how my experience and background can benefit your team, and I am eager to learn more about potential opportunities within your organization. Please find my attached resume for your reference.\n",
      "\n",
      "Thank you for considering my application. I look forward to the possibility of speaking further or interviewing at your convenience. Should you need to contact me, I am available from 7 AM to 5 PM weekdays.\n",
      "\n",
      "Sincerely,\n",
      "\n",
      "John Smith\n",
      "\n",
      "Applicant\n",
      "\n",
      "Number of document current in the db\n",
      "7\n"
     ]
    }
   ],
   "source": [
    "collection = chroma_client.get_collection(name=\"HR_Department\")\n",
    "print(\"**Checking first Document**\\n\")\n",
    "print(collection.peek()[\"documents\"][0])\n",
    "print(\"\\n**Checking the last Document**\\n\")\n",
    "print(collection.peek()[\"documents\"][-1])\n",
    "print(\"\\nNumber of document current in the db\")\n",
    "print(collection.count())"
   ]
  },
  {
   "cell_type": "code",
   "execution_count": 2,
   "metadata": {},
   "outputs": [
    {
     "name": "stdout",
     "output_type": "stream",
     "text": [
      "name='HR_department' id=UUID('ca82f02b-311a-4734-87b7-51654e612457') metadata={'Yousif': 'profile'}\n"
     ]
    }
   ],
   "source": [
    "for i in chroma_client.list_collections():\n",
    "    print(i)"
   ]
  },
  {
   "cell_type": "code",
   "execution_count": 9,
   "metadata": {},
   "outputs": [
    {
     "data": {
      "text/plain": [
       "'The collection has been successfully deleted.'"
      ]
     },
     "execution_count": 9,
     "metadata": {},
     "output_type": "execute_result"
    }
   ],
   "source": [
    "from doc_loader_chromadb import delete_collection\n",
    "\n",
    "delete_collection(client=chroma_client,coll_na=\"HR_department\")"
   ]
  },
  {
   "cell_type": "code",
   "execution_count": 10,
   "metadata": {},
   "outputs": [],
   "source": [
    "for i in chroma_client.list_collections():\n",
    "    print(i)"
   ]
  },
  {
   "cell_type": "markdown",
   "metadata": {},
   "source": [
    "## Testing the chat funtion"
   ]
  },
  {
   "cell_type": "code",
   "execution_count": 3,
   "metadata": {},
   "outputs": [
    {
     "name": "stdout",
     "output_type": "stream",
     "text": [
      "name='HR_department' id=UUID('ca82f02b-311a-4734-87b7-51654e612457') metadata={'Yousif': 'profile'}\n"
     ]
    }
   ],
   "source": [
    "for i in chroma_client.list_collections():\n",
    "    print(i)"
   ]
  },
  {
   "cell_type": "code",
   "execution_count": 4,
   "metadata": {},
   "outputs": [],
   "source": [
    "import sys\n",
    "sys.path.append(\"./scripts\")\n",
    "from Chat_openai_yousif import chat_f\n",
    "\n",
    "re,doc = chat_f(chroma_client,collection=\"HR_department\",question =\"what is the information required when I have a copyright concern?\")\n",
    "# re,doc= chat_f(chroma_client,collection=\"HR_department\",question =\"do you remember anything we discuss before ?\")"
   ]
  },
  {
   "cell_type": "code",
   "execution_count": 6,
   "metadata": {},
   "outputs": [
    {
     "name": "stdout",
     "output_type": "stream",
     "text": [
      "When you have a copyright concern, the following information is typically required:\n",
      "\n",
      "1. A description of the copyrighted work that has been infringed upon.\n",
      "2. The location on the site where the infringing material is located.\n",
      "3. Your address, telephone number, and email address.\n",
      "4. A statement by you that you have a good-faith belief that the disputed use is not authorized by the copyright owner, its agent, or the law.\n",
      "5. A statement by you, made under penalty of perjury, that the information provided in your notice is accurate and that you are the copyright owner or authorized to act on the copyright owner's behalf.\n",
      "\n",
      "You can submit your complaint using the online form provided by the platform. Alternatively, for copyright complaints only, you may submit written claims of copyright infringement to the Copyright Agent at Amazon.com's Legal Department. The contact details for the Copyright Agent are as follows:\n",
      "\n",
      "Copyright Agent\n",
      "Amazon.com Legal Department\n",
      "P.O. Box 81226\n",
      "Seattle, WA 98108\n",
      "Phone: (206) 266-4064\n",
      "Email: copyright@amazon.com\n",
      "\n",
      "Please note that this information is specific to Amazon's copyright infringement claims procedure. Other platforms may have slightly different requirements, so it's important to review their specific guidelines.\n"
     ]
    }
   ],
   "source": [
    "print(re)"
   ]
  },
  {
   "cell_type": "code",
   "execution_count": 11,
   "metadata": {},
   "outputs": [
    {
     "data": {
      "text/plain": [
       "{'response': \"When you have a copyright concern, the following information is typically required:\\n\\n1. A description of the copyrighted work that has been infringed upon.\\n2. The location on the site where the infringing material is located.\\n3. Your address, telephone number, and email address.\\n4. A statement by you that you have a good-faith belief that the disputed use is not authorized by the copyright owner, its agent, or the law.\\n5. A statement by you, made under penalty of perjury, that the information provided in your notice is accurate and that you are the copyright owner or authorized to act on the copyright owner's behalf.\\n\\nYou can submit your complaint using the online form provided by the platform. Alternatively, for copyright complaints only, you may submit written claims of copyright infringement to the Copyright Agent at Amazon.com's Legal Department. The contact details for the Copyright Agent are as follows:\\n\\nCopyright Agent\\nAmazon.com Legal Department\\nP.O. Box 81226\\nSeattle, WA 98108\\nPhone: (206) 266-4064\\nEmail: copyright@amazon.com\\n\\nPlease note that this information is specific to Amazon's copyright infringement claims procedure. Other platforms may have slightly different requirements, so it's important to review their specific guidelines.\",\n",
       " 'retrieved_doc': [Document(page_content='A description of the copyrighted work that you claim has been infringed upon; • A description of where the material that you claim is infringing is located on the site; • Your address, telephone number, and e-mail address; • A statement by you that you have a good-faith belief that the disputed use is not authorized by the copyright owner, its agent, or the law; and', metadata={'filename': 'test_4.pdf', 'filetype': 'application/pdf', 'page_number': 6}),\n",
       "  Document(page_content=\"A statement by you, made under penalty of perjury, that the above information in your notice is accurate and that you are the copyright owner or authorized to act on the copyright owner's behalf.\", metadata={'filename': 'test_4.pdf', 'filetype': 'application/pdf', 'page_number': 7}),\n",
       "  Document(page_content='NOTICE AND PROCEDURE FOR MAKING CLAIMS OF INTELLECTUAL PROPERTY INFRINGEMENT If you believe that your intellectual property rights have been infringed, please submit your complaint using our online form. This form may be used to report all types of intellectual property claims including, but not limited to, copyright, trademark, and patent claims.\\n\\nWe respond quickly to the concerns of rights owners about any alleged infringement, and we terminate repeat infringers in appropriate circumstances.\\n\\nWe offer the following alternative to our online form for copyright complaints only. You may submit written claims of copyright infringement to our Copyright Agent at:\\n\\nCopyright Agent Amazon.com Legal Department P.O. Box 81226 Seattle, WA 98108 phone: (206) 266-4064 e-mail: copyright@amazon.com\\n\\nCourier address: Copyright Agent Amazon.com Legal Department 2021 7th Avenue Seattle, WA 98121 USA Written claims concerning copyright infringement must include the following information:\\n\\nA physical or electronic signature of the person authorized to act on behalf of the owner of the copyright interest;', metadata={'filename': 'test_4.pdf', 'filetype': 'application/pdf', 'page_number': 6}),\n",
       "  Document(page_content='content throughout the world in any media. You grant Amazon and sublicensees the right to use the name that you submit in connection with such content, if they choose. You represent and warrant that you own or otherwise control all of the rights to the content that you post; that the content is accurate; that use of the content you supply does not violate this policy and will not cause injury to any person or entity; and that you will indemnify Amazon for all claims resulting from content you supply. Amazon has the right but not the obligation to monitor and edit or remove any activity or content. Amazon takes no responsibility and assumes no liability for any content posted by you or any third party.\\n\\nINTELLECTUAL PROPERTY COMPLAINTS Amazon respects the intellectual property of others. If you believe that your intellectual property rights are being infringed, please follow our Notice and Procedure for Making Claims of Copyright Infringement.\\n\\nRISK OF LOSS All purchases of physical items from Amazon are made pursuant to a shipment contract. This means that the risk of loss and title for such items pass to you upon our delivery to the carrier.', metadata={'filename': 'test_4.pdf', 'filetype': 'application/pdf', 'page_number': 3})]}"
      ]
     },
     "execution_count": 11,
     "metadata": {},
     "output_type": "execute_result"
    }
   ],
   "source": [
    "{\"response\":re,\"retrieved_doc\":doc}"
   ]
  },
  {
   "cell_type": "code",
   "execution_count": 12,
   "metadata": {},
   "outputs": [
    {
     "data": {
      "text/plain": [
       "[Document(page_content='A description of the copyrighted work that you claim has been infringed upon; • A description of where the material that you claim is infringing is located on the site; • Your address, telephone number, and e-mail address; • A statement by you that you have a good-faith belief that the disputed use is not authorized by the copyright owner, its agent, or the law; and', metadata={'filename': 'test_4.pdf', 'filetype': 'application/pdf', 'page_number': 6}),\n",
       " Document(page_content=\"A statement by you, made under penalty of perjury, that the above information in your notice is accurate and that you are the copyright owner or authorized to act on the copyright owner's behalf.\", metadata={'filename': 'test_4.pdf', 'filetype': 'application/pdf', 'page_number': 7}),\n",
       " Document(page_content='NOTICE AND PROCEDURE FOR MAKING CLAIMS OF INTELLECTUAL PROPERTY INFRINGEMENT If you believe that your intellectual property rights have been infringed, please submit your complaint using our online form. This form may be used to report all types of intellectual property claims including, but not limited to, copyright, trademark, and patent claims.\\n\\nWe respond quickly to the concerns of rights owners about any alleged infringement, and we terminate repeat infringers in appropriate circumstances.\\n\\nWe offer the following alternative to our online form for copyright complaints only. You may submit written claims of copyright infringement to our Copyright Agent at:\\n\\nCopyright Agent Amazon.com Legal Department P.O. Box 81226 Seattle, WA 98108 phone: (206) 266-4064 e-mail: copyright@amazon.com\\n\\nCourier address: Copyright Agent Amazon.com Legal Department 2021 7th Avenue Seattle, WA 98121 USA Written claims concerning copyright infringement must include the following information:\\n\\nA physical or electronic signature of the person authorized to act on behalf of the owner of the copyright interest;', metadata={'filename': 'test_4.pdf', 'filetype': 'application/pdf', 'page_number': 6}),\n",
       " Document(page_content='content throughout the world in any media. You grant Amazon and sublicensees the right to use the name that you submit in connection with such content, if they choose. You represent and warrant that you own or otherwise control all of the rights to the content that you post; that the content is accurate; that use of the content you supply does not violate this policy and will not cause injury to any person or entity; and that you will indemnify Amazon for all claims resulting from content you supply. Amazon has the right but not the obligation to monitor and edit or remove any activity or content. Amazon takes no responsibility and assumes no liability for any content posted by you or any third party.\\n\\nINTELLECTUAL PROPERTY COMPLAINTS Amazon respects the intellectual property of others. If you believe that your intellectual property rights are being infringed, please follow our Notice and Procedure for Making Claims of Copyright Infringement.\\n\\nRISK OF LOSS All purchases of physical items from Amazon are made pursuant to a shipment contract. This means that the risk of loss and title for such items pass to you upon our delivery to the carrier.', metadata={'filename': 'test_4.pdf', 'filetype': 'application/pdf', 'page_number': 3})]"
      ]
     },
     "execution_count": 12,
     "metadata": {},
     "output_type": "execute_result"
    }
   ],
   "source": [
    "doc"
   ]
  },
  {
   "cell_type": "code",
   "execution_count": 14,
   "metadata": {},
   "outputs": [],
   "source": [
    "doc_2 = [do.to_json() for do in doc]"
   ]
  },
  {
   "cell_type": "code",
   "execution_count": 21,
   "metadata": {},
   "outputs": [
    {
     "name": "stdout",
     "output_type": "stream",
     "text": [
      "{'filename': 'test_4.pdf', 'filetype': 'application/pdf', 'page_number': 6}\n",
      "{'filename': 'test_4.pdf', 'filetype': 'application/pdf', 'page_number': 7}\n",
      "{'filename': 'test_4.pdf', 'filetype': 'application/pdf', 'page_number': 6}\n",
      "{'filename': 'test_4.pdf', 'filetype': 'application/pdf', 'page_number': 3}\n"
     ]
    }
   ],
   "source": [
    "for i in doc_2:\n",
    "    print(i[\"kwargs\"][\"metadata\"])"
   ]
  }
 ],
 "metadata": {
  "kernelspec": {
   "display_name": "myenv",
   "language": "python",
   "name": "python3"
  },
  "language_info": {
   "codemirror_mode": {
    "name": "ipython",
    "version": 3
   },
   "file_extension": ".py",
   "mimetype": "text/x-python",
   "name": "python",
   "nbconvert_exporter": "python",
   "pygments_lexer": "ipython3",
   "version": "3.10.9"
  }
 },
 "nbformat": 4,
 "nbformat_minor": 2
}
